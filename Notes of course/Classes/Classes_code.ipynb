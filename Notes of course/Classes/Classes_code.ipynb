{
  "cells": [
    {
      "cell_type": "code",
      "execution_count": 1,
      "metadata": {
        "id": "cErLf6nqKlGg"
      },
      "outputs": [],
      "source": [
        "# 1. Define a simple class\n",
        "class Dog:\n",
        "    def __init__(self, name, breed):\n",
        "        self.name = name\n",
        "        self.breed = breed\n"
      ]
    },
    {
      "cell_type": "code",
      "execution_count": 2,
      "metadata": {
        "id": "K6AuAsA6KwRS"
      },
      "outputs": [],
      "source": [
        "\n",
        "# 2. Create an instance of the class\n",
        "my_dog = Dog(\"Buddy\", \"Golden Retriever\")"
      ]
    },
    {
      "cell_type": "code",
      "execution_count": 3,
      "metadata": {
        "colab": {
          "base_uri": "https://localhost:8080/"
        },
        "id": "sNwTz1uXK2OE",
        "outputId": "6d229c70-5d2f-4c59-8097-f75e6ae4a1d0"
      },
      "outputs": [
        {
          "name": "stdout",
          "output_type": "stream",
          "text": [
            "My dog's name is Buddy and it's a Golden Retriever.\n"
          ]
        }
      ],
      "source": [
        "# 3. Access instance variables\n",
        "print(f\"My dog's name is {my_dog.name} and it's a {my_dog.breed}.\")"
      ]
    },
    {
      "cell_type": "code",
      "execution_count": 4,
      "metadata": {
        "id": "eapKJ6V-K-nQ"
      },
      "outputs": [],
      "source": [
        "# 4. Define methods within the class\n",
        "class Circle:\n",
        "    def __init__(self, radius):\n",
        "        self.radius = radius\n",
        "\n",
        "    def area(self):\n",
        "        return 3.14 * self.radius ** 2"
      ]
    },
    {
      "cell_type": "code",
      "execution_count": 5,
      "metadata": {
        "colab": {
          "base_uri": "https://localhost:8080/"
        },
        "id": "-fxiJo0tLF9W",
        "outputId": "29ed1e51-bf8a-4de3-837f-bff51ce35a0a"
      },
      "outputs": [
        {
          "name": "stdout",
          "output_type": "stream",
          "text": [
            "The area of the circle is 78.5 square units.\n"
          ]
        }
      ],
      "source": [
        "# 5. Create an instance and call a method\n",
        "my_circle = Circle(5)\n",
        "print(f\"The area of the circle is {my_circle.area()} square units.\")"
      ]
    },
    {
      "cell_type": "code",
      "execution_count": 6,
      "metadata": {
        "colab": {
          "base_uri": "https://localhost:8080/"
        },
        "id": "Np3ennDvLJyf",
        "outputId": "393bc669-7b0b-43c4-fad0-0707997b0fd4"
      },
      "outputs": [
        {
          "name": "stdout",
          "output_type": "stream",
          "text": [
            "Student name: Alice, Breed: Labrador, Student ID: S12345\n"
          ]
        }
      ],
      "source": [
        "# 6. Inheritance\n",
        "class Student(Dog):\n",
        "    def __init__(self, name, breed, student_id):\n",
        "        super().__init__(name, breed)\n",
        "        self.student_id = student_id\n",
        "\n",
        "student1 = Student(\"Alice\", \"Labrador\", \"S12345\")\n",
        "print(f\"Student name: {student1.name}, Breed: {student1.breed}, Student ID: {student1.student_id}\")"
      ]
    },
    {
      "cell_type": "code",
      "execution_count": null,
      "metadata": {
        "id": "LRWWwr5cLNnL"
      },
      "outputs": [],
      "source": []
    }
  ],
  "metadata": {
    "colab": {
      "provenance": []
    },
    "kernelspec": {
      "display_name": "Python 3",
      "name": "python3"
    },
    "language_info": {
      "name": "python"
    }
  },
  "nbformat": 4,
  "nbformat_minor": 0
}
