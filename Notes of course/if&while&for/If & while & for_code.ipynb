{
 "cells": [
  {
   "cell_type": "markdown",
   "metadata": {},
   "source": [
    "## Conditional Statements"
   ]
  },
  {
   "cell_type": "code",
   "execution_count": 44,
   "metadata": {},
   "outputs": [
    {
     "name": "stdout",
     "output_type": "stream",
     "text": [
      "positive\n"
     ]
    }
   ],
   "source": [
    "# if statement\n",
    "if x > 0:\n",
    "    print('positive')"
   ]
  },
  {
   "cell_type": "code",
   "execution_count": 45,
   "metadata": {},
   "outputs": [
    {
     "name": "stdout",
     "output_type": "stream",
     "text": [
      "positive\n"
     ]
    }
   ],
   "source": [
    "# if/else statement\n",
    "if x > 0:\n",
    "    print('positive')\n",
    "else:\n",
    "    print('zero or negative')"
   ]
  },
  {
   "cell_type": "code",
   "execution_count": 46,
   "metadata": {},
   "outputs": [
    {
     "name": "stdout",
     "output_type": "stream",
     "text": [
      "positive\n"
     ]
    }
   ],
   "source": [
    "# if/elif/else statement\n",
    "if x > 0:\n",
    "    print('positive')\n",
    "elif x == 0:\n",
    "    print('zero')\n",
    "else:\n",
    "    print('negative')"
   ]
  },
  {
   "cell_type": "code",
   "execution_count": 47,
   "metadata": {},
   "outputs": [
    {
     "name": "stdout",
     "output_type": "stream",
     "text": [
      "positive\n"
     ]
    }
   ],
   "source": [
    "# single-line if statement (sometimes discouraged)\n",
    "if x > 0: print('positive')"
   ]
  },
  {
   "cell_type": "code",
   "execution_count": 48,
   "metadata": {},
   "outputs": [
    {
     "data": {
      "text/plain": [
       "'positive'"
      ]
     },
     "execution_count": 48,
     "metadata": {},
     "output_type": "execute_result"
    }
   ],
   "source": [
    "# single-line if/else statement (sometimes discouraged), known as a 'ternary operator'\n",
    "'positive' if x > 0 else 'zero or negative'"
   ]
  },
  {
   "cell_type": "markdown",
   "metadata": {},
   "source": [
    "##  For Loops and While Loops"
   ]
  },
  {
   "cell_type": "markdown",
   "metadata": {},
   "source": [
    "**`range` returns a list of integers (Python 2) or a sequence (Python 3):**"
   ]
  },
  {
   "cell_type": "code",
   "execution_count": 190,
   "metadata": {},
   "outputs": [
    {
     "data": {
      "text/plain": [
       "[0, 1, 2]"
      ]
     },
     "execution_count": 190,
     "metadata": {},
     "output_type": "execute_result"
    }
   ],
   "source": [
    "# includes the start value but excludes the stop value\n",
    "range(0, 3)"
   ]
  },
  {
   "cell_type": "code",
   "execution_count": 191,
   "metadata": {},
   "outputs": [
    {
     "data": {
      "text/plain": [
       "[0, 1, 2]"
      ]
     },
     "execution_count": 191,
     "metadata": {},
     "output_type": "execute_result"
    }
   ],
   "source": [
    "# default start value is 0\n",
    "range(3)"
   ]
  },
  {
   "cell_type": "code",
   "execution_count": 192,
   "metadata": {},
   "outputs": [
    {
     "data": {
      "text/plain": [
       "[0, 2, 4]"
      ]
     },
     "execution_count": 192,
     "metadata": {},
     "output_type": "execute_result"
    }
   ],
   "source": [
    "# third argument is the step value\n",
    "range(0, 5, 2)"
   ]
  },
  {
   "cell_type": "code",
   "execution_count": 193,
   "metadata": {},
   "outputs": [
    {
     "data": {
      "text/plain": [
       "xrange(100, 100000, 5)"
      ]
     },
     "execution_count": 193,
     "metadata": {},
     "output_type": "execute_result"
    }
   ],
   "source": [
    "# Python 2 only: use xrange to create a sequence rather than a list (saves memory)\n",
    "xrange(100, 100000, 5)"
   ]
  },
  {
   "cell_type": "markdown",
   "metadata": {},
   "source": [
    "**`for` loops:**"
   ]
  },
  {
   "cell_type": "code",
   "execution_count": 194,
   "metadata": {},
   "outputs": [
    {
     "name": "stdout",
     "output_type": "stream",
     "text": [
      "APPLE\n",
      "BANANA\n",
      "CHERRY\n"
     ]
    }
   ],
   "source": [
    "# not the recommended style\n",
    "fruits = ['apple', 'banana', 'cherry']\n",
    "for i in range(len(fruits)):\n",
    "    print(fruits[i].upper())"
   ]
  },
  {
   "cell_type": "code",
   "execution_count": 195,
   "metadata": {},
   "outputs": [
    {
     "name": "stdout",
     "output_type": "stream",
     "text": [
      "APPLE\n",
      "BANANA\n",
      "CHERRY\n"
     ]
    }
   ],
   "source": [
    "# recommended style\n",
    "for fruit in fruits:\n",
    "    print(fruit.upper())"
   ]
  },
  {
   "cell_type": "code",
   "execution_count": 196,
   "metadata": {},
   "outputs": [
    {
     "name": "stdout",
     "output_type": "stream",
     "text": [
      "('dad', 'homer')\n",
      "('mom', 'marge')\n",
      "('size', 6)\n"
     ]
    }
   ],
   "source": [
    "# iterate through two things at once (using tuple unpacking)\n",
    "family = {'dad':'homer', 'mom':'marge', 'size':6}\n",
    "for key, value in family.items():\n",
    "    print(key, value)"
   ]
  },
  {
   "cell_type": "code",
   "execution_count": 197,
   "metadata": {},
   "outputs": [
    {
     "name": "stdout",
     "output_type": "stream",
     "text": [
      "(0, 'apple')\n",
      "(1, 'banana')\n",
      "(2, 'cherry')\n"
     ]
    }
   ],
   "source": [
    "# use enumerate if you need to access the index value within the loop\n",
    "for index, fruit in enumerate(fruits):\n",
    "    print(index, fruit)"
   ]
  },
  {
   "cell_type": "markdown",
   "metadata": {},
   "source": [
    "**`for`/`else` loop:**"
   ]
  },
  {
   "cell_type": "code",
   "execution_count": 198,
   "metadata": {},
   "outputs": [
    {
     "name": "stdout",
     "output_type": "stream",
     "text": [
      "Found the banana!\n"
     ]
    }
   ],
   "source": [
    "for fruit in fruits:\n",
    "    if fruit == 'banana':\n",
    "        print('Found the banana!')\n",
    "        break    # exit the loop and skip the 'else' block\n",
    "else:\n",
    "    # this block executes ONLY if the for loop completes without hitting 'break'\n",
    "    print(\"Can't find the banana\")"
   ]
  },
  {
   "cell_type": "markdown",
   "metadata": {},
   "source": [
    "**`while` loop:**"
   ]
  },
  {
   "cell_type": "code",
   "execution_count": 199,
   "metadata": {},
   "outputs": [
    {
     "name": "stdout",
     "output_type": "stream",
     "text": [
      "This will print 5 times\n",
      "This will print 5 times\n",
      "This will print 5 times\n",
      "This will print 5 times\n",
      "This will print 5 times\n"
     ]
    }
   ],
   "source": [
    "count = 0\n",
    "while count < 5:\n",
    "    print('This will print 5 times')\n",
    "    count += 1    # equivalent to 'count = count + 1'"
   ]
  }
 ],
 "metadata": {
  "kernelspec": {
   "display_name": "Python 3",
   "language": "python",
   "name": "python3"
  },
  "language_info": {
   "codemirror_mode": {
    "name": "ipython",
    "version": 3
   },
   "file_extension": ".py",
   "mimetype": "text/x-python",
   "name": "python",
   "nbconvert_exporter": "python",
   "pygments_lexer": "ipython3",
   "version": "3.6.4"
  }
 },
 "nbformat": 4,
 "nbformat_minor": 1
}
