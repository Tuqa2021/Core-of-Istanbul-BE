{
  "nbformat": 4,
  "nbformat_minor": 0,
  "metadata": {
    "colab": {
      "provenance": []
    },
    "kernelspec": {
      "name": "python3",
      "display_name": "Python 3"
    },
    "language_info": {
      "name": "python"
    }
  },
  "cells": [
    {
      "cell_type": "code",
      "execution_count": 15,
      "metadata": {
        "colab": {
          "base_uri": "https://localhost:8080/"
        },
        "id": "wt9NEy0q8Im7",
        "outputId": "e155a8f3-71ee-4dc1-b1a9-effb51a7c056"
      },
      "outputs": [
        {
          "output_type": "stream",
          "name": "stdout",
          "text": [
            "0 0 0 0 0\n",
            "0 0 0 0 1\n",
            "0 0 0 0 0\n",
            "0 0 0 0 0\n",
            "0 0 0 0 0 \n",
            "3\n"
          ]
        }
      ],
      "source": [
        "def team():\n",
        "  n = int(input())\n",
        "  ans = 0\n",
        "  for i in range(n):\n",
        "    x, y, z = map(int, input().split())\n",
        "    ans += (x + y + z >= 2)\n",
        "    print(ans)\n",
        "team()"
      ]
    },
    {
      "cell_type": "code",
      "source": [
        "\n",
        "\n"
      ],
      "metadata": {
        "id": "kGgvyt238Tbs"
      },
      "execution_count": null,
      "outputs": []
    }
  ]
}