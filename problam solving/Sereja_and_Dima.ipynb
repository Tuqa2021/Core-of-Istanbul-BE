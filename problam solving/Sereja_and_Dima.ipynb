{
  "nbformat": 4,
  "nbformat_minor": 0,
  "metadata": {
    "colab": {
      "provenance": []
    },
    "kernelspec": {
      "name": "python3",
      "display_name": "Python 3"
    },
    "language_info": {
      "name": "python"
    }
  },
  "cells": [
    {
      "cell_type": "code",
      "execution_count": 2,
      "metadata": {
        "colab": {
          "base_uri": "https://localhost:8080/"
        },
        "id": "wt9NEy0q8Im7",
        "outputId": "255f0a22-0305-4f59-fac2-acb4a34700fc"
      },
      "outputs": [
        {
          "output_type": "stream",
          "name": "stdout",
          "text": [
            "4\n",
            "4 1 2 10\n",
            "12 5\n"
          ]
        }
      ],
      "source": [
        "n = int(input())\n",
        "cards = list(map(int, input().split()))\n",
        "\n",
        "sereja_points = 0\n",
        "dima_points = 0\n",
        "\n",
        "left = 0\n",
        "right = n - 1\n",
        "sereja_turn = True\n",
        "\n",
        "while left <= right:\n",
        "    if sereja_turn:\n",
        "        sereja_points += max(cards[left], cards[right])\n",
        "    else:\n",
        "        dima_points += max(cards[left], cards[right])\n",
        "\n",
        "    if cards[left] > cards[right]:\n",
        "        left += 1\n",
        "    else:\n",
        "        right -= 1\n",
        "\n",
        "    sereja_turn = not sereja_turn\n",
        "\n",
        "print(sereja_points, dima_points)"
      ]
    },
    {
      "cell_type": "code",
      "source": [
        "\n",
        "\n"
      ],
      "metadata": {
        "id": "kGgvyt238Tbs"
      },
      "execution_count": null,
      "outputs": []
    }
  ]
}