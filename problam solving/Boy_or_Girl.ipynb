{
  "nbformat": 4,
  "nbformat_minor": 0,
  "metadata": {
    "colab": {
      "provenance": []
    },
    "kernelspec": {
      "name": "python3",
      "display_name": "Python 3"
    },
    "language_info": {
      "name": "python"
    }
  },
  "cells": [
    {
      "cell_type": "code",
      "execution_count": 24,
      "metadata": {
        "colab": {
          "base_uri": "https://localhost:8080/"
        },
        "id": "wt9NEy0q8Im7",
        "outputId": "198d8efc-0c49-4594-864c-af77a58c7109"
      },
      "outputs": [
        {
          "output_type": "stream",
          "name": "stdout",
          "text": [
            "wjmzbmr\n",
            "CHAT WITH HER!\n"
          ]
        }
      ],
      "source": [
        "user_name = input()\n",
        "unique_characters = set(user_name)\n",
        "if len(unique_characters) % 2 == 0:\n",
        "    print(\"CHAT WITH HER!\")\n",
        "else:\n",
        "    print(\"IGNORE HIM!\")"
      ]
    },
    {
      "cell_type": "code",
      "source": [
        "\n",
        "\n"
      ],
      "metadata": {
        "id": "kGgvyt238Tbs"
      },
      "execution_count": null,
      "outputs": []
    }
  ]
}