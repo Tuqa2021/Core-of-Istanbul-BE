{
  "nbformat": 4,
  "nbformat_minor": 0,
  "metadata": {
    "colab": {
      "provenance": []
    },
    "kernelspec": {
      "name": "python3",
      "display_name": "Python 3"
    },
    "language_info": {
      "name": "python"
    }
  },
  "cells": [
    {
      "cell_type": "code",
      "execution_count": 1,
      "metadata": {
        "colab": {
          "base_uri": "https://localhost:8080/"
        },
        "id": "wt9NEy0q8Im7",
        "outputId": "c1788fd7-0ae8-48f5-b979-14cc01f349d7"
      },
      "outputs": [
        {
          "output_type": "stream",
          "name": "stdout",
          "text": [
            "6\n",
            "10\n",
            "10\n",
            "01\n",
            "10\n",
            "10\n",
            "10\n",
            "3\n"
          ]
        }
      ],
      "source": [
        "n = int(input())\n",
        "magnets = [input() for _ in range(n)]\n",
        "groups = 1\n",
        "for i in range(1, n):\n",
        "    if magnets[i] != magnets[i - 1]:\n",
        "        groups += 1\n",
        "\n",
        "print(groups)"
      ]
    },
    {
      "cell_type": "code",
      "source": [
        "\n",
        "\n"
      ],
      "metadata": {
        "id": "kGgvyt238Tbs"
      },
      "execution_count": null,
      "outputs": []
    }
  ]
}