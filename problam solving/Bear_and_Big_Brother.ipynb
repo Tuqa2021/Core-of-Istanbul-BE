{
  "nbformat": 4,
  "nbformat_minor": 0,
  "metadata": {
    "colab": {
      "provenance": []
    },
    "kernelspec": {
      "name": "python3",
      "display_name": "Python 3"
    },
    "language_info": {
      "name": "python"
    }
  },
  "cells": [
    {
      "cell_type": "code",
      "execution_count": 10,
      "metadata": {
        "id": "yeAWt1MSMcsI",
        "colab": {
          "base_uri": "https://localhost:8080/"
        },
        "outputId": "4760182c-1ce6-4eea-e346-f25e61f02ce5"
      },
      "outputs": [
        {
          "output_type": "stream",
          "name": "stdout",
          "text": [
            "5 6\n",
            "1\n"
          ]
        }
      ],
      "source": [
        "def main():\n",
        "    a, b = map(int, input().split())\n",
        "    res = 0\n",
        "    while a <= b:\n",
        "        a *= 3\n",
        "        b *= 2\n",
        "        res += 1\n",
        "    print(res)\n",
        "\n",
        "if __name__ == \"__main__\":\n",
        "    main()"
      ]
    },
    {
      "cell_type": "code",
      "source": [],
      "metadata": {
        "id": "qbpS0Pe8MppT"
      },
      "execution_count": null,
      "outputs": []
    }
  ]
}