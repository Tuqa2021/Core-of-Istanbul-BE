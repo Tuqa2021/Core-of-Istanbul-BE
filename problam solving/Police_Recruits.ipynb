{
  "nbformat": 4,
  "nbformat_minor": 0,
  "metadata": {
    "colab": {
      "provenance": []
    },
    "kernelspec": {
      "name": "python3",
      "display_name": "Python 3"
    },
    "language_info": {
      "name": "python"
    }
  },
  "cells": [
    {
      "cell_type": "code",
      "source": [
        "n = int(input())\n",
        "events = list(map(int, input().split()))\n",
        "\n",
        "officers = 0\n",
        "crimes = 0\n",
        "\n",
        "for event in events:\n",
        "    if event == -1:\n",
        "        if officers > 0:\n",
        "            officers -= 1\n",
        "        else:\n",
        "            crimes += 1\n",
        "    else:\n",
        "        officers += event\n",
        "\n",
        "print(crimes)"
      ],
      "metadata": {
        "colab": {
          "base_uri": "https://localhost:8080/"
        },
        "id": "Cq6PprWkeoec",
        "outputId": "9e26401e-bc22-48bd-912d-5663f177a13b"
      },
      "execution_count": 4,
      "outputs": [
        {
          "output_type": "stream",
          "name": "stdout",
          "text": [
            "3\n",
            "-1 -1 1\n",
            "2\n"
          ]
        }
      ]
    },
    {
      "cell_type": "code",
      "source": [
        "\n",
        "\n"
      ],
      "metadata": {
        "id": "kGgvyt238Tbs"
      },
      "execution_count": null,
      "outputs": []
    }
  ]
}