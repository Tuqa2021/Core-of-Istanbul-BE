{
  "nbformat": 4,
  "nbformat_minor": 0,
  "metadata": {
    "colab": {
      "provenance": []
    },
    "kernelspec": {
      "name": "python3",
      "display_name": "Python 3"
    },
    "language_info": {
      "name": "python"
    }
  },
  "cells": [
    {
      "cell_type": "code",
      "execution_count": null,
      "metadata": {
        "id": "wt9NEy0q8Im7"
      },
      "outputs": [],
      "source": [
        "str1 = input().lower()\n",
        "str2 = input().lower()\n",
        "if str1 < str2:\n",
        "    print(\"-1\")\n",
        "elif str1 > str2:\n",
        "    print(\"1\")\n",
        "else:\n",
        "    print(\"0\")\n"
      ]
    },
    {
      "cell_type": "code",
      "source": [
        "\n",
        "\n"
      ],
      "metadata": {
        "id": "kGgvyt238Tbs"
      },
      "execution_count": null,
      "outputs": []
    }
  ]
}