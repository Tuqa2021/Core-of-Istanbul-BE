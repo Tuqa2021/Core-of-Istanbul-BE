{
  "nbformat": 4,
  "nbformat_minor": 0,
  "metadata": {
    "colab": {
      "provenance": []
    },
    "kernelspec": {
      "name": "python3",
      "display_name": "Python 3"
    },
    "language_info": {
      "name": "python"
    }
  },
  "cells": [
    {
      "cell_type": "code",
      "execution_count": 1,
      "metadata": {
        "colab": {
          "base_uri": "https://localhost:8080/"
        },
        "id": "wt9NEy0q8Im7",
        "outputId": "f51122bb-ac7a-48c1-e938-f78f1ca066c7"
      },
      "outputs": [
        {
          "output_type": "stream",
          "name": "stdout",
          "text": [
            "hoUse\n",
            "house\n"
          ]
        }
      ],
      "source": [
        "s = input()\n",
        "uppercase_count = sum(1 for letter in s if letter.isupper())\n",
        "lowercase_count = len(s) - uppercase_count\n",
        "if uppercase_count > lowercase_count:\n",
        "    corrected_word = s.upper()\n",
        "else:\n",
        "    corrected_word = s.lower()\n",
        "print(corrected_word)"
      ]
    },
    {
      "cell_type": "code",
      "source": [
        "\n",
        "\n"
      ],
      "metadata": {
        "id": "kGgvyt238Tbs"
      },
      "execution_count": null,
      "outputs": []
    }
  ]
}