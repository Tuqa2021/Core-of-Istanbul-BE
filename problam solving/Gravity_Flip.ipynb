{
  "nbformat": 4,
  "nbformat_minor": 0,
  "metadata": {
    "colab": {
      "provenance": []
    },
    "kernelspec": {
      "name": "python3",
      "display_name": "Python 3"
    },
    "language_info": {
      "name": "python"
    }
  },
  "cells": [
    {
      "cell_type": "code",
      "execution_count": 18,
      "metadata": {
        "colab": {
          "base_uri": "https://localhost:8080/"
        },
        "id": "wt9NEy0q8Im7",
        "outputId": "bbfd24c8-ef60-4811-ff06-825857bd5d2c"
      },
      "outputs": [
        {
          "output_type": "stream",
          "name": "stdout",
          "text": [
            "4\n",
            "3 2 1 2\n",
            "1 2 2 3\n"
          ]
        }
      ],
      "source": [
        "n = int(input())\n",
        "column_counts = list(map(int, input().split()))\n",
        "def gravity_switch(columns):\n",
        "    sorted_columns = sorted(columns)\n",
        "    return sorted_columns\n",
        "result = gravity_switch(column_counts)\n",
        "print(*result)"
      ]
    },
    {
      "cell_type": "code",
      "source": [
        "\n",
        "\n"
      ],
      "metadata": {
        "id": "kGgvyt238Tbs"
      },
      "execution_count": null,
      "outputs": []
    }
  ]
}