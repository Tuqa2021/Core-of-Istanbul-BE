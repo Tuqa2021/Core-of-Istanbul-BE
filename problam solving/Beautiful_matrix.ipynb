{
  "nbformat": 4,
  "nbformat_minor": 0,
  "metadata": {
    "colab": {
      "provenance": []
    },
    "kernelspec": {
      "name": "python3",
      "display_name": "Python 3"
    },
    "language_info": {
      "name": "python"
    }
  },
  "cells": [
    {
      "cell_type": "code",
      "execution_count": 15,
      "metadata": {
        "colab": {
          "base_uri": "https://localhost:8080/"
        },
        "id": "wt9NEy0q8Im7",
        "outputId": "e155a8f3-71ee-4dc1-b1a9-effb51a7c056"
      },
      "outputs": [
        {
          "output_type": "stream",
          "name": "stdout",
          "text": [
            "0 0 0 0 0\n",
            "0 0 0 0 1\n",
            "0 0 0 0 0\n",
            "0 0 0 0 0\n",
            "0 0 0 0 0 \n",
            "3\n"
          ]
        }
      ],
      "source": [
        "matrix = [list(map(int, input().split())) for _ in range(5)]\n",
        "one_row, one_col = None, None\n",
        "for i in range(5):\n",
        "  for j in range(5):\n",
        "    if matrix[i][j] == 1:\n",
        "      one_row, one_col = i, j\n",
        "moves = abs(one_row - 2) + abs(one_col - 2)\n",
        "print(moves)"
      ]
    },
    {
      "cell_type": "code",
      "source": [
        "\n",
        "\n"
      ],
      "metadata": {
        "id": "kGgvyt238Tbs"
      },
      "execution_count": null,
      "outputs": []
    }
  ]
}